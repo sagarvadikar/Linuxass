{
  "cells": [
    {
      "cell_type": "code",
      "execution_count": 4,
      "metadata": {
        "id": "PuWzPU2i6AZI"
      },
      "outputs": [],
      "source": []
    },
    {
      "cell_type": "markdown",
      "metadata": {
        "id": "G114mvXe6Vlm"
      },
      "source": [
        "#linux"
      ]
    },
    {
      "cell_type": "markdown",
      "metadata": {
        "id": "DluG_F1X6wjE"
      },
      "source": [
        "1. What is Linux ?\n",
        "\n",
        "  - Linux is operating system. its free and open-source like windows or macOS.its a acts as bridge between your computer hardware and the software.\n",
        "  \n",
        "  - its manages hardware like (CPU,memory,storage) run software and applications and controls file nad security.\n",
        "\n",
        "\n",
        "2. What is the difference between Hard Link & Soft Link ?\n",
        "  \n",
        "   - A hard link is like a second name for the same file. its points directly to the files data on the disk.\n",
        "   - a soft link is like shortcut. it points to the file name or path of original file, not the data directly.\n",
        "3. What is a Kernel in Linux ?\n",
        "   - In linux, kernel is a core part of the operating system. its connection between hardware and software. its manages file, hardware resources, manage security and premissions.its enables communication and permissions.\n",
        "\n",
        "4. How do you create a user account ?   \n",
        "    - To create a user account in linux, you can use the \"useradd or adduser\" command.\n",
        "    - example  -   sudo adduser\n",
        "\n",
        "5. What is the ‘grep’ command used for in Linux ?\n",
        "    - The grep command is used in linux for to search for text patterns in the files or output. its one of the most powerfull and commonly used text-processing tools.\n",
        "\n",
        "   \n",
        "    "
      ]
    },
    {
      "cell_type": "code",
      "execution_count": null,
      "metadata": {
        "colab": {
          "base_uri": "https://localhost:8080/"
        },
        "id": "dgmBpyNVPs4c",
        "outputId": "899b5730-036a-4846-83f4-30c58d407008"
      },
      "outputs": [
        {
          "name": "stdout",
          "output_type": "stream",
          "text": [
            "User 'newuser' created with groups gl,g2,g3 and default group 'gl'.\n",
            "Shared directory with group inheritance: /home/newuser/shared_gl\n"
          ]
        },
        {
          "name": "stderr",
          "output_type": "stream",
          "text": [
            "useradd: group 'gl' does not exist\n",
            "chpasswd: (user newuser) pam_chauthtok() failed, error:\n",
            "Authentication token manipulation error\n",
            "chpasswd: (line 1, user newuser) password not changed\n",
            "chown: invalid user: ‘newuser:gl’\n"
          ]
        }
      ],
      "source": [
        "# 6.Step1: Create user p1\n",
        "\n",
        " #Step2: He should be part of 3 groups g1,g2,g3.\n",
        "\n",
        " #Step3: whenever he creates a file automatically in the group section of file grp g1 should come.\n",
        "\n",
        "%%bash\n",
        "USERNAME=\"newuser\"\n",
        "PASSWORD=\"User@123\"\n",
        "GROUPS_TO_ADD=\"gl,g2,g3\"\n",
        "PRIMARY_GROUP=\"gl\"\n",
        "\n",
        "\n",
        "sudo useradd -m -s /bin/bash -g $PRIMARY_GROUP -G $GROUPS_TO_ADD $USERNAME\n",
        "\n",
        "\n",
        "echo \"${USERNAME}:${PASSWORD}\" | sudo chpasswd\n",
        "\n",
        "SHARED_DIR=\"/home/$USERNAME/shared_gl\"\n",
        "\n",
        "sudo mkdir -p $SHARED_DIR\n",
        "sudo chown $USERNAME:$PRIMARY_GROUP $SHARED_DIR\n",
        "sudo chmod g+s $SHARED_DIR\n",
        "sudo chmod 2775 $SHARED_DIR\n",
        "\n",
        "\n",
        "echo \"User '$USERNAME' created with groups $GROUPS_TO_ADD and default group '$PRIMARY_GROUP'.\"\n",
        "echo \"Shared directory with group inheritance: $SHARED_DIR\""
      ]
    },
    {
      "cell_type": "code",
      "execution_count": 28,
      "metadata": {
        "colab": {
          "base_uri": "https://localhost:8080/"
        },
        "id": "kC9EmSdfQIjJ",
        "outputId": "2f4db223-e1e7-4f4b-8ebe-171b7ea2a8fa"
      },
      "outputs": [
        {
          "name": "stdout",
          "output_type": "stream",
          "text": [
            "Directory /tmp/bg created and ownership set to abhi with read, write, and execute permissions.\n"
          ]
        },
        {
          "name": "stderr",
          "output_type": "stream",
          "text": [
            "chown: invalid user: ‘abhi’\n"
          ]
        }
      ],
      "source": [
        " #7. Step1: Create directory /tmp/bg as root user and create files inside it.\n",
        "\n",
        " #Step2: “abhi” should be the owner of the directory. He should be able to create files and delete files inside the directory.\n",
        "\n",
        "%%bash\n",
        "sudo mkdir -p /tmp/bg\n",
        "sudo chown abhi /tmp/bg\n",
        "sudo chmod u+rwx /tmp/bg\n",
        "\n",
        "echo \"Directory /tmp/bg created and ownership set to abhi with read, write, and execute permissions.\""
      ]
    },
    {
      "cell_type": "code",
      "execution_count": 1,
      "metadata": {
        "colab": {
          "base_uri": "https://localhost:8080/"
        },
        "id": "b6eHXn2_RXKj",
        "outputId": "03ebb26d-31cc-4e17-b351-f91c35127882"
      },
      "outputs": [
        {
          "name": "stdout",
          "output_type": "stream",
          "text": [
            "Top CPU consuming PID: 12567\n",
            "Process 12567 has been terminated.\n"
          ]
        }
      ],
      "source": [
        "# 8. You suspect that a particular process is consuming excessive CPU resources on your Linux server. How\n",
        "#would you identify and terminate this process?\n",
        "\n",
        "\n",
        "%%bash\n",
        "\n",
        "TOP_PID=$(ps -eo pid,%cpu --sort=-%cpu | awk 'NR==2 {print $1}')\n",
        "echo \"Top CPU consuming PID: $TOP_PID\"\n",
        "kill -9 $TOP_PID\n",
        "echo \"Process $TOP_PID has been terminated.\""
      ]
    }
  ],
  "metadata": {
    "colab": {
      "provenance": []
    },
    "kernelspec": {
      "display_name": "Python 3",
      "name": "python3"
    },
    "language_info": {
      "name": "python"
    }
  },
  "nbformat": 4,
  "nbformat_minor": 0
}
